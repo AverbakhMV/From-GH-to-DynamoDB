{
 "cells": [
  {
   "cell_type": "code",
   "execution_count": 1,
   "id": "659a9e8c-a07c-4e73-8730-fa525ae70f0f",
   "metadata": {
    "tags": []
   },
   "outputs": [],
   "source": [
    "import requests\n",
    "import json"
   ]
  },
  {
   "cell_type": "code",
   "execution_count": null,
   "id": "5bc4e3f4-a454-4f17-a74a-0091dcaec17b",
   "metadata": {},
   "outputs": [],
   "source": [
    "get details of GH repos and insert it to DynamoDB table"
   ]
  },
  {
   "cell_type": "code",
   "execution_count": 29,
   "id": "e13d56b3-90fb-447a-a4a3-f4c8bc1c7676",
   "metadata": {
    "tags": []
   },
   "outputs": [
    {
     "data": {
      "text/plain": [
       "{'id': 651047891,\n",
       " 'node_id': 'R_kgDOJs4z0w',\n",
       " 'name': 'From-GH-to-DynamoDB',\n",
       " 'full_name': 'AverbakhMV/From-GH-to-DynamoDB',\n",
       " 'private': False,\n",
       " 'owner': {'login': 'AverbakhMV',\n",
       "  'id': 87974490,\n",
       "  'node_id': 'MDQ6VXNlcjg3OTc0NDkw',\n",
       "  'avatar_url': 'https://avatars.githubusercontent.com/u/87974490?v=4',\n",
       "  'gravatar_id': '',\n",
       "  'url': 'https://api.github.com/users/AverbakhMV',\n",
       "  'html_url': 'https://github.com/AverbakhMV',\n",
       "  'followers_url': 'https://api.github.com/users/AverbakhMV/followers',\n",
       "  'following_url': 'https://api.github.com/users/AverbakhMV/following{/other_user}',\n",
       "  'gists_url': 'https://api.github.com/users/AverbakhMV/gists{/gist_id}',\n",
       "  'starred_url': 'https://api.github.com/users/AverbakhMV/starred{/owner}{/repo}',\n",
       "  'subscriptions_url': 'https://api.github.com/users/AverbakhMV/subscriptions',\n",
       "  'organizations_url': 'https://api.github.com/users/AverbakhMV/orgs',\n",
       "  'repos_url': 'https://api.github.com/users/AverbakhMV/repos',\n",
       "  'events_url': 'https://api.github.com/users/AverbakhMV/events{/privacy}',\n",
       "  'received_events_url': 'https://api.github.com/users/AverbakhMV/received_events',\n",
       "  'type': 'User',\n",
       "  'site_admin': False},\n",
       " 'html_url': 'https://github.com/AverbakhMV/From-GH-to-DynamoDB',\n",
       " 'description': None,\n",
       " 'fork': False,\n",
       " 'url': 'https://api.github.com/repos/AverbakhMV/From-GH-to-DynamoDB',\n",
       " 'forks_url': 'https://api.github.com/repos/AverbakhMV/From-GH-to-DynamoDB/forks',\n",
       " 'keys_url': 'https://api.github.com/repos/AverbakhMV/From-GH-to-DynamoDB/keys{/key_id}',\n",
       " 'collaborators_url': 'https://api.github.com/repos/AverbakhMV/From-GH-to-DynamoDB/collaborators{/collaborator}',\n",
       " 'teams_url': 'https://api.github.com/repos/AverbakhMV/From-GH-to-DynamoDB/teams',\n",
       " 'hooks_url': 'https://api.github.com/repos/AverbakhMV/From-GH-to-DynamoDB/hooks',\n",
       " 'issue_events_url': 'https://api.github.com/repos/AverbakhMV/From-GH-to-DynamoDB/issues/events{/number}',\n",
       " 'events_url': 'https://api.github.com/repos/AverbakhMV/From-GH-to-DynamoDB/events',\n",
       " 'assignees_url': 'https://api.github.com/repos/AverbakhMV/From-GH-to-DynamoDB/assignees{/user}',\n",
       " 'branches_url': 'https://api.github.com/repos/AverbakhMV/From-GH-to-DynamoDB/branches{/branch}',\n",
       " 'tags_url': 'https://api.github.com/repos/AverbakhMV/From-GH-to-DynamoDB/tags',\n",
       " 'blobs_url': 'https://api.github.com/repos/AverbakhMV/From-GH-to-DynamoDB/git/blobs{/sha}',\n",
       " 'git_tags_url': 'https://api.github.com/repos/AverbakhMV/From-GH-to-DynamoDB/git/tags{/sha}',\n",
       " 'git_refs_url': 'https://api.github.com/repos/AverbakhMV/From-GH-to-DynamoDB/git/refs{/sha}',\n",
       " 'trees_url': 'https://api.github.com/repos/AverbakhMV/From-GH-to-DynamoDB/git/trees{/sha}',\n",
       " 'statuses_url': 'https://api.github.com/repos/AverbakhMV/From-GH-to-DynamoDB/statuses/{sha}',\n",
       " 'languages_url': 'https://api.github.com/repos/AverbakhMV/From-GH-to-DynamoDB/languages',\n",
       " 'stargazers_url': 'https://api.github.com/repos/AverbakhMV/From-GH-to-DynamoDB/stargazers',\n",
       " 'contributors_url': 'https://api.github.com/repos/AverbakhMV/From-GH-to-DynamoDB/contributors',\n",
       " 'subscribers_url': 'https://api.github.com/repos/AverbakhMV/From-GH-to-DynamoDB/subscribers',\n",
       " 'subscription_url': 'https://api.github.com/repos/AverbakhMV/From-GH-to-DynamoDB/subscription',\n",
       " 'commits_url': 'https://api.github.com/repos/AverbakhMV/From-GH-to-DynamoDB/commits{/sha}',\n",
       " 'git_commits_url': 'https://api.github.com/repos/AverbakhMV/From-GH-to-DynamoDB/git/commits{/sha}',\n",
       " 'comments_url': 'https://api.github.com/repos/AverbakhMV/From-GH-to-DynamoDB/comments{/number}',\n",
       " 'issue_comment_url': 'https://api.github.com/repos/AverbakhMV/From-GH-to-DynamoDB/issues/comments{/number}',\n",
       " 'contents_url': 'https://api.github.com/repos/AverbakhMV/From-GH-to-DynamoDB/contents/{+path}',\n",
       " 'compare_url': 'https://api.github.com/repos/AverbakhMV/From-GH-to-DynamoDB/compare/{base}...{head}',\n",
       " 'merges_url': 'https://api.github.com/repos/AverbakhMV/From-GH-to-DynamoDB/merges',\n",
       " 'archive_url': 'https://api.github.com/repos/AverbakhMV/From-GH-to-DynamoDB/{archive_format}{/ref}',\n",
       " 'downloads_url': 'https://api.github.com/repos/AverbakhMV/From-GH-to-DynamoDB/downloads',\n",
       " 'issues_url': 'https://api.github.com/repos/AverbakhMV/From-GH-to-DynamoDB/issues{/number}',\n",
       " 'pulls_url': 'https://api.github.com/repos/AverbakhMV/From-GH-to-DynamoDB/pulls{/number}',\n",
       " 'milestones_url': 'https://api.github.com/repos/AverbakhMV/From-GH-to-DynamoDB/milestones{/number}',\n",
       " 'notifications_url': 'https://api.github.com/repos/AverbakhMV/From-GH-to-DynamoDB/notifications{?since,all,participating}',\n",
       " 'labels_url': 'https://api.github.com/repos/AverbakhMV/From-GH-to-DynamoDB/labels{/name}',\n",
       " 'releases_url': 'https://api.github.com/repos/AverbakhMV/From-GH-to-DynamoDB/releases{/id}',\n",
       " 'deployments_url': 'https://api.github.com/repos/AverbakhMV/From-GH-to-DynamoDB/deployments',\n",
       " 'created_at': '2023-06-08T11:28:21Z',\n",
       " 'updated_at': '2023-06-10T09:30:05Z',\n",
       " 'pushed_at': '2023-06-08T11:28:21Z',\n",
       " 'git_url': 'git://github.com/AverbakhMV/From-GH-to-DynamoDB.git',\n",
       " 'ssh_url': 'git@github.com:AverbakhMV/From-GH-to-DynamoDB.git',\n",
       " 'clone_url': 'https://github.com/AverbakhMV/From-GH-to-DynamoDB.git',\n",
       " 'svn_url': 'https://github.com/AverbakhMV/From-GH-to-DynamoDB',\n",
       " 'homepage': None,\n",
       " 'size': 0,\n",
       " 'stargazers_count': 0,\n",
       " 'watchers_count': 0,\n",
       " 'language': None,\n",
       " 'has_issues': True,\n",
       " 'has_projects': True,\n",
       " 'has_downloads': True,\n",
       " 'has_wiki': True,\n",
       " 'has_pages': False,\n",
       " 'has_discussions': False,\n",
       " 'forks_count': 0,\n",
       " 'mirror_url': None,\n",
       " 'archived': False,\n",
       " 'disabled': False,\n",
       " 'open_issues_count': 0,\n",
       " 'license': None,\n",
       " 'allow_forking': True,\n",
       " 'is_template': False,\n",
       " 'web_commit_signoff_required': False,\n",
       " 'topics': [],\n",
       " 'visibility': 'public',\n",
       " 'forks': 0,\n",
       " 'open_issues': 0,\n",
       " 'watchers': 0,\n",
       " 'default_branch': 'main',\n",
       " 'permissions': {'admin': True,\n",
       "  'maintain': True,\n",
       "  'push': True,\n",
       "  'triage': True,\n",
       "  'pull': True},\n",
       " 'temp_clone_token': '',\n",
       " 'network_count': 0,\n",
       " 'subscribers_count': 2}"
      ]
     },
     "execution_count": 29,
     "metadata": {},
     "output_type": "execute_result"
    }
   ],
   "source": [
    "#get repo id\n",
    "res = requests.get(\n",
    "    'https://api.github.com/repos/AverbakhMV/From-GH-to-DynamoDB',\n",
    "    headers={'Authorization': f'token {token}'}\n",
    ")\n",
    "repo = json.loads(res.content.decode('utf-8'))\n",
    "repo"
   ]
  },
  {
   "cell_type": "code",
   "execution_count": 3,
   "id": "f855ff8c-cf6a-42a2-96ef-622c33e47873",
   "metadata": {
    "tags": []
   },
   "outputs": [],
   "source": [
    "def list_repos(token, since='651047891'):\n",
    "    res = requests.get(\n",
    "        f'https://api.github.com/repositories?since={since}',\n",
    "        headers={'Authorization': f'token {token}'}\n",
    "    )\n",
    "    return json.loads(res.content.decode('utf-8'))"
   ]
  },
  {
   "cell_type": "code",
   "execution_count": 4,
   "id": "73cbbc44-61aa-4432-8a42-a45108064e5d",
   "metadata": {
    "tags": []
   },
   "outputs": [],
   "source": [
    "repos = list_repos(token)"
   ]
  },
  {
   "cell_type": "code",
   "execution_count": 5,
   "id": "191db8b5-ec15-4044-b9f1-d1f740028489",
   "metadata": {
    "tags": []
   },
   "outputs": [],
   "source": [
    "def get_repo_details(owner, name, token):\n",
    "    repo_details = json.loads(requests.get(\n",
    "        f'https://api.github.com/repos/{owner}/{name}',\n",
    "        headers={'Authorization': f'token {token}'}\n",
    "    ).content.decode('utf-8'))\n",
    "    return repo_details"
   ]
  },
  {
   "cell_type": "code",
   "execution_count": 7,
   "id": "ef904a3f-2a27-4eda-88c5-74bfb4979d6b",
   "metadata": {
    "tags": []
   },
   "outputs": [],
   "source": [
    "def extract_repo_fields(repo_details):\n",
    "    repo_fields = {\n",
    "        'id': repo_details['id'],\n",
    "        'node_id': repo_details['node_id'],\n",
    "        'name': repo_details['name'],\n",
    "        'full_name': repo_details['full_name'],\n",
    "        'owner': {\n",
    "            'login': repo_details['owner']['login'],\n",
    "            'id': repo_details['owner']['id'],\n",
    "            'node_id': repo_details['owner']['node_id'],\n",
    "            'type': repo_details['owner']['type'],\n",
    "            'site_admin': repo_details['owner']['site_admin']\n",
    "        },\n",
    "        'html_url': repo_details['html_url'],\n",
    "        'description': repo_details['description'],\n",
    "        'fork': repo_details['fork'],\n",
    "        'created_at': repo_details['created_at']\n",
    "    }\n",
    "    return repo_fields"
   ]
  },
  {
   "cell_type": "code",
   "execution_count": 8,
   "id": "2bb6237e-66a8-43d7-965a-f0f765043c1a",
   "metadata": {
    "tags": []
   },
   "outputs": [],
   "source": [
    "def get_repos(repos, token):\n",
    "    repos_details = []\n",
    "    for repo in repos:\n",
    "        try:\n",
    "            owner = repo['owner']['login']\n",
    "            name = repo['name']\n",
    "            repo_details = get_repo_details(owner, name, token)\n",
    "            repo_fields = extract_repo_fields(repo_details)\n",
    "            repos_details.append(repo_fields)\n",
    "        except:\n",
    "            pass\n",
    "    return repos_details"
   ]
  },
  {
   "cell_type": "code",
   "execution_count": 10,
   "id": "bf0b052c-63c8-4968-ac4f-faef321a3410",
   "metadata": {
    "tags": []
   },
   "outputs": [],
   "source": [
    "repos_details = get_repos(repos, token)"
   ]
  },
  {
   "cell_type": "code",
   "execution_count": 11,
   "id": "06650fb3-f3fc-4072-ab21-1db283de6dd5",
   "metadata": {
    "tags": []
   },
   "outputs": [
    {
     "data": {
      "text/plain": [
       "99"
      ]
     },
     "execution_count": 11,
     "metadata": {},
     "output_type": "execute_result"
    }
   ],
   "source": [
    "len(repos_details)"
   ]
  },
  {
   "cell_type": "code",
   "execution_count": 12,
   "id": "3ae0f5a3-3279-49d1-b6c6-853ca222a67e",
   "metadata": {
    "tags": []
   },
   "outputs": [],
   "source": [
    "import boto3"
   ]
  },
  {
   "cell_type": "code",
   "execution_count": 13,
   "id": "e89b7654-880a-4863-bd79-cbdf7b3414db",
   "metadata": {
    "tags": []
   },
   "outputs": [],
   "source": [
    "import os"
   ]
  },
  {
   "cell_type": "code",
   "execution_count": 14,
   "id": "407902c6-ed18-4b68-ae04-f440aa1a08dd",
   "metadata": {
    "tags": []
   },
   "outputs": [
    {
     "data": {
      "text/plain": [
       "'GitHubUser'"
      ]
     },
     "execution_count": 14,
     "metadata": {},
     "output_type": "execute_result"
    }
   ],
   "source": [
    "os.environ.setdefault('AWS_PROFILE', 'GitHubUser')"
   ]
  },
  {
   "cell_type": "code",
   "execution_count": 15,
   "id": "d8cdffde-da78-4b51-b577-496bcf33bc64",
   "metadata": {
    "tags": []
   },
   "outputs": [
    {
     "data": {
      "text/plain": [
       "'us-east-1'"
      ]
     },
     "execution_count": 15,
     "metadata": {},
     "output_type": "execute_result"
    }
   ],
   "source": [
    "os.environ.setdefault('AWS_DEFAULT_REGION', 'us-east-1')"
   ]
  },
  {
   "cell_type": "code",
   "execution_count": 26,
   "id": "5e4ec3b6-ee3b-459a-88aa-e9247f4e5990",
   "metadata": {
    "tags": []
   },
   "outputs": [],
   "source": [
    "#create dynamoDB table\n",
    "ghrepos = dynamodb.create_table(\n",
    "    TableName='ghrepos',\n",
    "    KeySchema=[\n",
    "        {\n",
    "            'AttributeName': 'id',\n",
    "            'KeyType': 'HASH'\n",
    "        }\n",
    "    ],\n",
    "    AttributeDefinitions=[\n",
    "        {\n",
    "            'AttributeName': 'id',\n",
    "            'AttributeType': 'N'\n",
    "        }\n",
    "    ],\n",
    "    BillingMode='PAY_PER_REQUEST'\n",
    ")       "
   ]
  },
  {
   "cell_type": "code",
   "execution_count": 25,
   "id": "89016ddf-313f-4c6e-aab9-a333e7609215",
   "metadata": {
    "tags": []
   },
   "outputs": [
    {
     "name": "stdout",
     "output_type": "stream",
     "text": [
      "{\n",
      "    \"TableNames\": [\n",
      "        \"ghmarker\",\n",
      "        \"ghrepos\"\n",
      "    ]\n",
      "}\n"
     ]
    }
   ],
   "source": [
    "%%sh\n",
    "aws dynamodb list-tables --profile GitHubUser --region us-east-1"
   ]
  },
  {
   "cell_type": "code",
   "execution_count": 16,
   "id": "44f4939f-ec4e-46c6-8acf-cb26a44406dd",
   "metadata": {
    "tags": []
   },
   "outputs": [],
   "source": [
    "dynamodb = boto3.resource('dynamodb')"
   ]
  },
  {
   "cell_type": "code",
   "execution_count": 17,
   "id": "a5dd8c90-40c3-481a-b637-6069fd00704b",
   "metadata": {
    "tags": []
   },
   "outputs": [],
   "source": [
    "ghrepos_table = dynamodb.Table('ghrepos')"
   ]
  },
  {
   "cell_type": "code",
   "execution_count": 18,
   "id": "969ff34d-6fb8-4c4d-a5ea-448ced9069f5",
   "metadata": {
    "tags": []
   },
   "outputs": [
    {
     "data": {
      "text/plain": [
       "0"
      ]
     },
     "execution_count": 18,
     "metadata": {},
     "output_type": "execute_result"
    }
   ],
   "source": [
    "ghrepos_table.item_count"
   ]
  },
  {
   "cell_type": "code",
   "execution_count": 19,
   "id": "3704f878-fb34-45f6-9d48-4a30aca454d8",
   "metadata": {
    "tags": []
   },
   "outputs": [],
   "source": [
    "def load_repos(repos_details, ghrepos_table):\n",
    "    for repo in repos_details:\n",
    "        ghrepos_table.put_item(Item=repo)"
   ]
  },
  {
   "cell_type": "code",
   "execution_count": 20,
   "id": "05e15c31-8213-41d9-a987-ebb52cd20a0a",
   "metadata": {
    "tags": []
   },
   "outputs": [
    {
     "name": "stdout",
     "output_type": "stream",
     "text": [
      "CPU times: user 460 ms, sys: 7.12 ms, total: 468 ms\n",
      "Wall time: 26.2 s\n"
     ]
    }
   ],
   "source": [
    "%%time\n",
    "load_repos(repos_details, ghrepos_table)"
   ]
  },
  {
   "cell_type": "code",
   "execution_count": 21,
   "id": "c56c8cc4-780e-4ef7-8d14-6bdd15248b01",
   "metadata": {
    "tags": []
   },
   "outputs": [],
   "source": [
    "items = ghrepos_table.scan()"
   ]
  },
  {
   "cell_type": "code",
   "execution_count": 23,
   "id": "379c6287-22de-4d1d-b10b-d41b0f879c39",
   "metadata": {
    "tags": []
   },
   "outputs": [
    {
     "data": {
      "text/plain": [
       "99"
      ]
     },
     "execution_count": 23,
     "metadata": {},
     "output_type": "execute_result"
    }
   ],
   "source": [
    "len(items['Items'])"
   ]
  },
  {
   "cell_type": "code",
   "execution_count": 24,
   "id": "b89fab5b-1886-4d75-bfc3-5fab65a1cf2f",
   "metadata": {
    "tags": []
   },
   "outputs": [
    {
     "data": {
      "text/plain": [
       "{'created_at': '2023-06-08T11:28:48Z',\n",
       " 'owner': {'site_admin': False,\n",
       "  'id': Decimal('52549054'),\n",
       "  'login': 'daniel-w-f',\n",
       "  'type': 'User',\n",
       "  'node_id': 'MDQ6VXNlcjUyNTQ5MDU0'},\n",
       " 'full_name': 'daniel-w-f/CGAD',\n",
       " 'html_url': 'https://github.com/daniel-w-f/CGAD',\n",
       " 'description': 'CGAD = ChatGPT API Dings',\n",
       " 'id': Decimal('651048037'),\n",
       " 'fork': False,\n",
       " 'name': 'CGAD',\n",
       " 'node_id': 'R_kgDOJs40ZQ'}"
      ]
     },
     "execution_count": 24,
     "metadata": {},
     "output_type": "execute_result"
    }
   ],
   "source": [
    "items['Items'][0]"
   ]
  },
  {
   "cell_type": "code",
   "execution_count": null,
   "id": "f4315c84-6776-45c4-819d-2288d01f8860",
   "metadata": {},
   "outputs": [],
   "source": []
  }
 ],
 "metadata": {
  "kernelspec": {
   "display_name": "Python 3 (ipykernel)",
   "language": "python",
   "name": "python3"
  },
  "language_info": {
   "codemirror_mode": {
    "name": "ipython",
    "version": 3
   },
   "file_extension": ".py",
   "mimetype": "text/x-python",
   "name": "python",
   "nbconvert_exporter": "python",
   "pygments_lexer": "ipython3",
   "version": "3.8.10"
  }
 },
 "nbformat": 4,
 "nbformat_minor": 5
}
